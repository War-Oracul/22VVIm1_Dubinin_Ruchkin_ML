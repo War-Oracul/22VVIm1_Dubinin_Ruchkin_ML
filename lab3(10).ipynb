{
 "cells": [
  {
   "cell_type": "markdown",
   "metadata": {},
   "source": [
    "# Лабораторная работа 3. Описательная статистика"
   ]
  },
  {
   "cell_type": "code",
   "execution_count": 1,
   "metadata": {},
   "outputs": [],
   "source": [
    "import pandas as pd\n",
    "import seaborn as sns\n",
    "import numpy as np\n",
    "import seaborn as sns\n",
    "import matplotlib.pyplot as plt\n",
    "import statistics as st\n",
    "import scipy.stats\n",
    "from scipy.stats import pearsonr, spearmanr, kendalltau, norm\n",
    "import scipy.stats as sts"
   ]
  },
  {
   "cell_type": "code",
   "execution_count": 2,
   "metadata": {},
   "outputs": [
    {
     "name": "stdout",
     "output_type": "stream",
     "text": [
      "   Engine_Size  Cylinders  Fuel_Consumption_in_City(L/100 km)  \\\n",
      "0          2.4          4                                 9.9   \n",
      "1          3.5          6                                11.1   \n",
      "2          2.0          4                                11.0   \n",
      "3          2.0          4                                11.3   \n",
      "4          2.0          4                                11.2   \n",
      "5          2.0          4                                11.3   \n",
      "6          2.0          4                                10.0   \n",
      "7          2.0          4                                10.5   \n",
      "8          2.9          6                                13.5   \n",
      "9          2.0          4                                10.3   \n",
      "\n",
      "   Fuel_Consumption_in_City_Hwy(L/100 km)  Fuel_Consumption_comb(L/100km)  \\\n",
      "0                                     7.0                             8.6   \n",
      "1                                    10.8                            11.0   \n",
      "2                                     8.6                             9.9   \n",
      "3                                     9.1                            10.3   \n",
      "4                                     8.0                             9.8   \n",
      "5                                     8.1                             9.8   \n",
      "6                                     7.2                             8.7   \n",
      "7                                     7.7                             9.2   \n",
      "8                                     9.3                            11.6   \n",
      "9                                     8.1                             9.3   \n",
      "\n",
      "   CO2_Emissions  Smog_Level  \n",
      "0            199           3  \n",
      "1            256           3  \n",
      "2            232           6  \n",
      "3            242           6  \n",
      "4            230           7  \n",
      "5            231           7  \n",
      "6            205           3  \n",
      "7            217           3  \n",
      "8            271           3  \n",
      "9            218           3  \n"
     ]
    }
   ],
   "source": [
    "df=pd.read_csv('CO2_emission.csv')\n",
    "values = ['Compact', 'Full-size', 'Mid-size', 'Minicompact', 'Minivan', 'Pickup truck: Small','Pickup truck: Standard','Pickup truck: Standard','Station wagon: Mid-size','Special purpose vehicle','Station wagon: Small','Subcompact','Two-seater','Van: Passenger']\n",
    "\n",
    "#drop rows that contain any value in the list\n",
    "#df = df[df.Vehicle_Class.isin (values) == False ]\n",
    "#df[\"Vehicle_Class\"] = np.where(df[\"Vehicle_Class\"] == \"SUV: Small\", 0, 1)\n",
    "df = df.drop(columns=['Model_Year'])\n",
    "df = df.drop(columns=['Make'])\n",
    "df = df.drop(columns=['Model'])\n",
    "df = df.drop(columns=['Transmission'])\n",
    "df = df.drop(columns=['Vehicle_Class'])\n",
    "#df = df.drop(columns=['Smog_Level'])\n",
    "print(df.head(10))"
   ]
  },
  {
   "cell_type": "markdown",
   "metadata": {},
   "source": [
    "## Центральные метрики"
   ]
  },
  {
   "cell_type": "markdown",
   "metadata": {},
   "source": [
    "### Математическое ожидание"
   ]
  },
  {
   "cell_type": "code",
   "execution_count": 3,
   "metadata": {},
   "outputs": [
    {
     "name": "stdout",
     "output_type": "stream",
     "text": [
      "Engine_Size: 3.214866310160428\n",
      "Cylinders: 5.716577540106952\n",
      "Fuel_Consumption_in_City(L/100 km): 12.498609625668449\n",
      "Fuel_Consumption_in_City_Hwy(L/100 km): 9.30620320855615\n",
      "Fuel_Consumption_comb(L/100km): 11.060213903743316\n",
      "CO2_Emissions: 258.52941176470586\n",
      "Smog_Level: 4.72620320855615\n"
     ]
    }
   ],
   "source": [
    "print('Engine_Size:', st.mean(df['Engine_Size']))\n",
    "print('Cylinders:', st.mean(df['Cylinders']))\n",
    "print('Fuel_Consumption_in_City(L/100 km):', st.mean(df['Fuel_Consumption_in_City(L/100 km)']))\n",
    "print('Fuel_Consumption_in_City_Hwy(L/100 km):', st.mean(df['Fuel_Consumption_in_City_Hwy(L/100 km)']))\n",
    "print('Fuel_Consumption_comb(L/100km):', st.mean(df['Fuel_Consumption_comb(L/100km)']))\n",
    "print('CO2_Emissions:', st.mean(df['CO2_Emissions']))\n",
    "print('Smog_Level:', st.mean(df['Smog_Level']))"
   ]
  },
  {
   "cell_type": "markdown",
   "metadata": {},
   "source": [
    "### Средневзвешенное"
   ]
  },
  {
   "cell_type": "code",
   "execution_count": 4,
   "metadata": {},
   "outputs": [
    {
     "name": "stdout",
     "output_type": "stream",
     "text": [
      "Engine_Size: 2.34\n",
      "Cylinders: 4.3999999999999995\n",
      "Fuel_Consumption_in_City(L/100 km): 11.015\n",
      "Fuel_Consumption_in_City_Hwy(L/100 km): 8.915\n",
      "Fuel_Consumption_comb(L/100km): 10.075000000000001\n",
      "CO2_Emissions: 235.7\n",
      "Smog_Level: 5.25\n"
     ]
    }
   ],
   "source": [
    "w = [0.1, 0.2, 0.3, 0.25, 0.15]\n",
    "df_head = df.head(5)\n",
    "print('Engine_Size:', np.average(df_head['Engine_Size'], weights=w))\n",
    "print('Cylinders:', np.average(df_head['Cylinders'], weights=w))\n",
    "print('Fuel_Consumption_in_City(L/100 km):', np.average(df_head['Fuel_Consumption_in_City(L/100 km)'], weights=w))\n",
    "print('Fuel_Consumption_in_City_Hwy(L/100 km):', np.average(df_head['Fuel_Consumption_in_City_Hwy(L/100 km)'], weights=w))\n",
    "print('Fuel_Consumption_comb(L/100km):', np.average(df_head['Fuel_Consumption_comb(L/100km)'], weights=w))\n",
    "print('CO2_Emissions:', np.average(df_head['CO2_Emissions'], weights=w))\n",
    "print('Smog_Level:', np.average(df_head['Smog_Level'], weights=w))"
   ]
  },
  {
   "cell_type": "markdown",
   "metadata": {},
   "source": [
    "### Медиана"
   ]
  },
  {
   "cell_type": "code",
   "execution_count": 5,
   "metadata": {},
   "outputs": [
    {
     "name": "stdout",
     "output_type": "stream",
     "text": [
      "Engine_Size: aver: 3.0 low: 3.0 high: 3.0\n",
      "Cylinders: aver: 6 low: 6 high: 6\n",
      "Fuel_Consumption_in_City(L/100 km): aver: 12.0 low: 12.0 high: 12.0\n",
      "Fuel_Consumption_in_City_Hwy(L/100 km): aver: 9.0 low: 9.0 high: 9.0\n",
      "Fuel_Consumption_comb(L/100km): aver: 10.7 low: 10.7 high: 10.7\n",
      "CO2_Emissions: aver: 255 low: 255 high: 255\n",
      "Smog_Level: aver: 5 low: 5 high: 5\n"
     ]
    }
   ],
   "source": [
    "print('Engine_Size:', 'aver:', st.median(df['Engine_Size']), 'low:', st.median_low(df['Engine_Size']), 'high:', st.median_high(df['Engine_Size']))\n",
    "print('Cylinders:', 'aver:', st.median(df['Cylinders']), 'low:', st.median_low(df['Cylinders']), 'high:', st.median_high(df['Cylinders']))\n",
    "print('Fuel_Consumption_in_City(L/100 km):', 'aver:', st.median(df['Fuel_Consumption_in_City(L/100 km)']), 'low:', st.median_low(df['Fuel_Consumption_in_City(L/100 km)']), 'high:', st.median_high(df['Fuel_Consumption_in_City(L/100 km)']))\n",
    "print('Fuel_Consumption_in_City_Hwy(L/100 km):', 'aver:', st.median(df['Fuel_Consumption_in_City_Hwy(L/100 km)']), 'low:', st.median_low(df['Fuel_Consumption_in_City_Hwy(L/100 km)']), 'high:', st.median_high(df['Fuel_Consumption_in_City_Hwy(L/100 km)']))\n",
    "print('Fuel_Consumption_comb(L/100km):', 'aver:', st.median(df['Fuel_Consumption_comb(L/100km)']), 'low:', st.median_low(df['Fuel_Consumption_comb(L/100km)']), 'high:', st.median_high(df['Fuel_Consumption_comb(L/100km)']))\n",
    "print('CO2_Emissions:', 'aver:', st.median(df['CO2_Emissions']), 'low:', st.median_low(df['CO2_Emissions']), 'high:', st.median_high(df['CO2_Emissions']))\n",
    "print('Smog_Level:', 'aver:', st.median(df['Smog_Level']), 'low:', st.median_low(df['Smog_Level']), 'high:', st.median_high(df['Smog_Level']))"
   ]
  },
  {
   "cell_type": "markdown",
   "metadata": {},
   "source": [
    "### Мода"
   ]
  },
  {
   "cell_type": "code",
   "execution_count": 6,
   "metadata": {},
   "outputs": [
    {
     "name": "stdout",
     "output_type": "stream",
     "text": [
      "Engine_Size: 2.0\n",
      "Cylinders: 4\n",
      "Fuel_Consumption_in_City(L/100 km): 13.1\n",
      "Fuel_Consumption_in_City_Hwy(L/100 km): 9.8\n",
      "Fuel_Consumption_comb(L/100km): 13.8\n",
      "CO2_Emissions: 242\n",
      "Smog_Level: 5\n"
     ]
    }
   ],
   "source": [
    "print('Engine_Size:', st.mode(df['Engine_Size']))\n",
    "print('Cylinders:', st.mode(df['Cylinders']))\n",
    "print('Fuel_Consumption_in_City(L/100 km):', st.mode(df['Fuel_Consumption_in_City(L/100 km)']))\n",
    "print('Fuel_Consumption_in_City_Hwy(L/100 km):', st.mode(df['Fuel_Consumption_in_City_Hwy(L/100 km)']))\n",
    "print('Fuel_Consumption_comb(L/100km):', st.mode(df['Fuel_Consumption_comb(L/100km)']))\n",
    "print('CO2_Emissions:', st.mode(df['CO2_Emissions']))\n",
    "print('Smog_Level:', st.mode(df['Smog_Level']))"
   ]
  },
  {
   "cell_type": "markdown",
   "metadata": {},
   "source": [
    "### Минимум и максимум"
   ]
  },
  {
   "cell_type": "code",
   "execution_count": 7,
   "metadata": {},
   "outputs": [
    {
     "name": "stdout",
     "output_type": "stream",
     "text": [
      "Engine_Size: min: 1.0 max: 8.0\n",
      "Cylinders: min: 3 max: 16\n",
      "Fuel_Consumption_in_City(L/100 km): min: 4.0 max: 30.3\n",
      "Fuel_Consumption_in_City_Hwy(L/100 km): min: 3.9 max: 20.9\n",
      "Fuel_Consumption_comb(L/100km): min: 4.0 max: 26.1\n",
      "CO2_Emissions: min: 94 max: 608\n",
      "Smog_Level: min: 1 max: 7\n"
     ]
    }
   ],
   "source": [
    "print('Engine_Size:', 'min:', np.min(df['Engine_Size']), 'max:', np.max(df['Engine_Size']))\n",
    "print('Cylinders:', 'min:', np.min(df['Cylinders']), 'max:', np.max(df['Cylinders']))\n",
    "print('Fuel_Consumption_in_City(L/100 km):', 'min:', np.min(df['Fuel_Consumption_in_City(L/100 km)']), 'max:', np.max(df['Fuel_Consumption_in_City(L/100 km)']))\n",
    "print('Fuel_Consumption_in_City_Hwy(L/100 km):', 'min:', np.min(df['Fuel_Consumption_in_City_Hwy(L/100 km)']), 'max:', np.max(df['Fuel_Consumption_in_City_Hwy(L/100 km)']))\n",
    "print('Fuel_Consumption_comb(L/100km):', 'min:', np.min(df['Fuel_Consumption_comb(L/100km)']), 'max:', np.max(df['Fuel_Consumption_comb(L/100km)']))\n",
    "print('CO2_Emissions:', 'min:', np.min(df['CO2_Emissions']), 'max:', np.max(df['CO2_Emissions']))\n",
    "print('Smog_Level:', 'min:', np.min(df['Smog_Level']), 'max:', np.max(df['Smog_Level']))"
   ]
  },
  {
   "cell_type": "markdown",
   "metadata": {},
   "source": [
    "## Метрики оценки вариативности данных"
   ]
  },
  {
   "cell_type": "markdown",
   "metadata": {},
   "source": [
    "### Дисперсия"
   ]
  },
  {
   "cell_type": "code",
   "execution_count": 8,
   "metadata": {},
   "outputs": [
    {
     "name": "stdout",
     "output_type": "stream",
     "text": [
      "Engine_Size: 1.9259073350682032\n",
      "Cylinders: 3.9057679659126654\n",
      "Fuel_Consumption_in_City(L/100 km): 12.148051542795047\n",
      "Fuel_Consumption_in_City_Hwy(L/100 km): 4.904603231433556\n",
      "Fuel_Consumption_comb(L/100km): 8.2110587777746\n",
      "CO2_Emissions: 4148.428814092482\n",
      "Smog_Level: 2.9282438731447855\n"
     ]
    }
   ],
   "source": [
    "print('Engine_Size:', st.pvariance(df['Engine_Size']))\n",
    "print('Cylinders:', st.pvariance(df['Cylinders']))\n",
    "print('Fuel_Consumption_in_City(L/100 km):', st.pvariance(df['Fuel_Consumption_in_City(L/100 km)']))\n",
    "print('Fuel_Consumption_in_City_Hwy(L/100 km):', st.pvariance(df['Fuel_Consumption_in_City_Hwy(L/100 km)']))\n",
    "print('Fuel_Consumption_comb(L/100km):', st.pvariance(df['Fuel_Consumption_comb(L/100km)']))\n",
    "print('CO2_Emissions:', st.pvariance(df['CO2_Emissions']))\n",
    "print('Smog_Level:', st.pvariance(df['Smog_Level']))"
   ]
  },
  {
   "cell_type": "markdown",
   "metadata": {},
   "source": [
    "### Стандартное отклонение"
   ]
  },
  {
   "cell_type": "code",
   "execution_count": 9,
   "metadata": {},
   "outputs": [
    {
     "name": "stdout",
     "output_type": "stream",
     "text": [
      "Engine_Size: 1.387770634891877\n",
      "Cylinders: 1.9763015877928818\n",
      "Fuel_Consumption_in_City(L/100 km): 3.4854055062209115\n",
      "Fuel_Consumption_in_City_Hwy(L/100 km): 2.2146338820296134\n",
      "Fuel_Consumption_comb(L/100km): 2.8654945084181542\n",
      "CO2_Emissions: 64.4082977114943\n",
      "Smog_Level: 1.7112112298441666\n"
     ]
    }
   ],
   "source": [
    "print('Engine_Size:', st.pstdev(df['Engine_Size']))\n",
    "print('Cylinders:', st.pstdev(df['Cylinders']))\n",
    "print('Fuel_Consumption_in_City(L/100 km):', st.pstdev(df['Fuel_Consumption_in_City(L/100 km)']))\n",
    "print('Fuel_Consumption_in_City_Hwy(L/100 km):', st.pstdev(df['Fuel_Consumption_in_City_Hwy(L/100 km)']))\n",
    "print('Fuel_Consumption_comb(L/100km):', st.pstdev(df['Fuel_Consumption_comb(L/100km)']))\n",
    "print('CO2_Emissions:', st.pstdev(df['CO2_Emissions']))\n",
    "print('Smog_Level:', st.pstdev(df['Smog_Level']))"
   ]
  },
  {
   "cell_type": "markdown",
   "metadata": {},
   "source": [
    "### Квантиль (процентиль)"
   ]
  },
  {
   "cell_type": "markdown",
   "metadata": {},
   "source": [
    "#### 5-й"
   ]
  },
  {
   "cell_type": "code",
   "execution_count": 10,
   "metadata": {},
   "outputs": [
    {
     "name": "stdout",
     "output_type": "stream",
     "text": [
      "Engine_Size: 1.5\n",
      "Cylinders: 4.0\n",
      "Fuel_Consumption_in_City(L/100 km): 7.9\n",
      "Fuel_Consumption_in_City_Hwy(L/100 km): 6.3\n",
      "Fuel_Consumption_comb(L/100km): 7.1\n",
      "CO2_Emissions: 167.0\n",
      "Smog_Level: 1.0\n"
     ]
    }
   ],
   "source": [
    "print('Engine_Size:', np.percentile(df['Engine_Size'], 5))\n",
    "print('Cylinders:', np.percentile(df['Cylinders'], 5))\n",
    "print('Fuel_Consumption_in_City(L/100 km):', np.percentile(df['Fuel_Consumption_in_City(L/100 km)'], 5))\n",
    "print('Fuel_Consumption_in_City_Hwy(L/100 km):', np.percentile(df['Fuel_Consumption_in_City_Hwy(L/100 km)'], 5))\n",
    "print('Fuel_Consumption_comb(L/100km):', np.percentile(df['Fuel_Consumption_comb(L/100km)'], 5))\n",
    "print('CO2_Emissions:', np.percentile(df['CO2_Emissions'], 5))\n",
    "print('Smog_Level:', np.percentile(df['Smog_Level'], 5))"
   ]
  },
  {
   "cell_type": "markdown",
   "metadata": {},
   "source": [
    "#### 95-й"
   ]
  },
  {
   "cell_type": "code",
   "execution_count": 11,
   "metadata": {},
   "outputs": [
    {
     "name": "stdout",
     "output_type": "stream",
     "text": [
      "Engine_Size: 6.2\n",
      "Cylinders: 8.0\n",
      "Fuel_Consumption_in_City(L/100 km): 18.0\n",
      "Fuel_Consumption_in_City_Hwy(L/100 km): 13.0\n",
      "Fuel_Consumption_comb(L/100km): 15.7\n",
      "CO2_Emissions: 359.0\n",
      "Smog_Level: 7.0\n"
     ]
    }
   ],
   "source": [
    "print('Engine_Size:', np.percentile(df['Engine_Size'], 95))\n",
    "print('Cylinders:', np.percentile(df['Cylinders'], 95))\n",
    "print('Fuel_Consumption_in_City(L/100 km):', np.percentile(df['Fuel_Consumption_in_City(L/100 km)'], 95))\n",
    "print('Fuel_Consumption_in_City_Hwy(L/100 km):', np.percentile(df['Fuel_Consumption_in_City_Hwy(L/100 km)'], 95))\n",
    "print('Fuel_Consumption_comb(L/100km):', np.percentile(df['Fuel_Consumption_comb(L/100km)'], 95))\n",
    "print('CO2_Emissions:', np.percentile(df['CO2_Emissions'], 95))\n",
    "print('Smog_Level:', np.percentile(df['Smog_Level'], 95))"
   ]
  },
  {
   "cell_type": "markdown",
   "metadata": {},
   "source": [
    "#### 25-й, 50-й, 75-й"
   ]
  },
  {
   "cell_type": "code",
   "execution_count": 12,
   "metadata": {},
   "outputs": [
    {
     "name": "stdout",
     "output_type": "stream",
     "text": [
      "Engine_Size: [2. 3. 4.]\n",
      "Cylinders: [4. 6. 8.]\n",
      "Fuel_Consumption_in_City(L/100 km): [10.1 12.  14.8]\n",
      "Fuel_Consumption_in_City_Hwy(L/100 km): [ 7.7  9.  10.8]\n",
      "Fuel_Consumption_comb(L/100km): [ 9.1 10.7 13.1]\n",
      "CO2_Emissions: [213.  255.  303.5]\n",
      "Smog_Level: [3. 5. 6.]\n"
     ]
    }
   ],
   "source": [
    "print('Engine_Size:', np.percentile(df['Engine_Size'], [25,50,75]))\n",
    "print('Cylinders:', np.percentile(df['Cylinders'], [25,50,75]))\n",
    "print('Fuel_Consumption_in_City(L/100 km):', np.percentile(df['Fuel_Consumption_in_City(L/100 km)'], [25,50,75]))\n",
    "print('Fuel_Consumption_in_City_Hwy(L/100 km):', np.percentile(df['Fuel_Consumption_in_City_Hwy(L/100 km)'], [25,50,75]))\n",
    "print('Fuel_Consumption_comb(L/100km):', np.percentile(df['Fuel_Consumption_comb(L/100km)'], [25,50,75]))\n",
    "print('CO2_Emissions:', np.percentile(df['CO2_Emissions'], [25,50,75]))\n",
    "print('Smog_Level:', np.percentile(df['Smog_Level'], [25,50,75]))"
   ]
  },
  {
   "cell_type": "markdown",
   "metadata": {},
   "source": [
    "### Размах"
   ]
  },
  {
   "cell_type": "code",
   "execution_count": 13,
   "metadata": {},
   "outputs": [
    {
     "name": "stdout",
     "output_type": "stream",
     "text": [
      "Engine_Size: 7.0\n",
      "Cylinders: 13\n",
      "Fuel_Consumption_in_City(L/100 km): 26.3\n",
      "Fuel_Consumption_in_City_Hwy(L/100 km): 17.0\n",
      "Fuel_Consumption_comb(L/100km): 22.1\n",
      "CO2_Emissions: 514\n",
      "Smog_Level: 6\n"
     ]
    }
   ],
   "source": [
    "print('Engine_Size:', max(df['Engine_Size'])-min(df['Engine_Size']))\n",
    "print('Cylinders:', max(df['Cylinders'])-min(df['Cylinders']))\n",
    "print('Fuel_Consumption_in_City(L/100 km):', max(df['Fuel_Consumption_in_City(L/100 km)'])-min(df['Fuel_Consumption_in_City(L/100 km)']))\n",
    "print('Fuel_Consumption_in_City_Hwy(L/100 km):', max(df['Fuel_Consumption_in_City_Hwy(L/100 km)'])-min(df['Fuel_Consumption_in_City_Hwy(L/100 km)']))\n",
    "print('Fuel_Consumption_comb(L/100km):', max(df['Fuel_Consumption_comb(L/100km)'])-min(df['Fuel_Consumption_comb(L/100km)']))\n",
    "print('CO2_Emissions:', max(df['CO2_Emissions'])-min(df['CO2_Emissions']))\n",
    "print('Smog_Level:', max(df['Smog_Level'])-min(df['Smog_Level']))"
   ]
  },
  {
   "cell_type": "markdown",
   "metadata": {},
   "source": [
    "### Корреляция"
   ]
  },
  {
   "cell_type": "code",
   "execution_count": 14,
   "metadata": {},
   "outputs": [
    {
     "data": {
      "image/png": "[encoded data removed]",
      "text/plain": [
       "<Figure size 432x288 with 1 Axes>"
      ]
     },
     "metadata": {
      "needs_background": "light"
     },
     "output_type": "display_data"
    }
   ],
   "source": [
    "plt.ylabel('расход топлива в городе')\n",
    "plt.xlabel('уровень смога')\n",
    "plt.title('Точечный график зависимости уровня смога от расхода топлива в городе')\n",
    "plt.grid(True)\n",
    "plt.scatter(df['Smog_Level'], df['Fuel_Consumption_in_City(L/100 km)'], marker='.')\n",
    "plt.show()"
   ]
  },
  {
   "cell_type": "markdown",
   "metadata": {},
   "source": [
    "### Описательная статистика Pandas"
   ]
  },
  {
   "cell_type": "code",
   "execution_count": 15,
   "metadata": {},
   "outputs": [
    {
     "data": {
      "text/html": [
       "<div>\n",
       "<style scoped>\n",
       "    .dataframe tbody tr th:only-of-type {\n",
       "        vertical-align: middle;\n",
       "    }\n",
       "\n",
       "    .dataframe tbody tr th {\n",
       "        vertical-align: top;\n",
       "    }\n",
       "\n",
       "    .dataframe thead th {\n",
       "        text-align: right;\n",
       "    }\n",
       "</style>\n",
       "<table border=\"1\" class=\"dataframe\">\n",
       "  <thead>\n",
       "    <tr style=\"text-align: right;\">\n",
       "      <th></th>\n",
       "      <th>Engine_Size</th>\n",
       "      <th>Cylinders</th>\n",
       "      <th>Fuel_Consumption_in_City(L/100 km)</th>\n",
       "      <th>Fuel_Consumption_in_City_Hwy(L/100 km)</th>\n",
       "      <th>Fuel_Consumption_comb(L/100km)</th>\n",
       "      <th>CO2_Emissions</th>\n",
       "      <th>Smog_Level</th>\n",
       "    </tr>\n",
       "  </thead>\n",
       "  <tbody>\n",
       "    <tr>\n",
       "      <th>count</th>\n",
       "      <td>935.000000</td>\n",
       "      <td>935.000000</td>\n",
       "      <td>935.000000</td>\n",
       "      <td>935.000000</td>\n",
       "      <td>935.000000</td>\n",
       "      <td>935.000000</td>\n",
       "      <td>935.000000</td>\n",
       "    </tr>\n",
       "    <tr>\n",
       "      <th>mean</th>\n",
       "      <td>3.214866</td>\n",
       "      <td>5.716578</td>\n",
       "      <td>12.498610</td>\n",
       "      <td>9.306203</td>\n",
       "      <td>11.060214</td>\n",
       "      <td>258.529412</td>\n",
       "      <td>4.726203</td>\n",
       "    </tr>\n",
       "    <tr>\n",
       "      <th>std</th>\n",
       "      <td>1.388513</td>\n",
       "      <td>1.977359</td>\n",
       "      <td>3.487271</td>\n",
       "      <td>2.215819</td>\n",
       "      <td>2.867028</td>\n",
       "      <td>64.442768</td>\n",
       "      <td>1.712127</td>\n",
       "    </tr>\n",
       "    <tr>\n",
       "      <th>min</th>\n",
       "      <td>1.000000</td>\n",
       "      <td>3.000000</td>\n",
       "      <td>4.000000</td>\n",
       "      <td>3.900000</td>\n",
       "      <td>4.000000</td>\n",
       "      <td>94.000000</td>\n",
       "      <td>1.000000</td>\n",
       "    </tr>\n",
       "    <tr>\n",
       "      <th>25%</th>\n",
       "      <td>2.000000</td>\n",
       "      <td>4.000000</td>\n",
       "      <td>10.100000</td>\n",
       "      <td>7.700000</td>\n",
       "      <td>9.100000</td>\n",
       "      <td>213.000000</td>\n",
       "      <td>3.000000</td>\n",
       "    </tr>\n",
       "    <tr>\n",
       "      <th>50%</th>\n",
       "      <td>3.000000</td>\n",
       "      <td>6.000000</td>\n",
       "      <td>12.000000</td>\n",
       "      <td>9.000000</td>\n",
       "      <td>10.700000</td>\n",
       "      <td>255.000000</td>\n",
       "      <td>5.000000</td>\n",
       "    </tr>\n",
       "    <tr>\n",
       "      <th>75%</th>\n",
       "      <td>4.000000</td>\n",
       "      <td>8.000000</td>\n",
       "      <td>14.800000</td>\n",
       "      <td>10.800000</td>\n",
       "      <td>13.100000</td>\n",
       "      <td>303.500000</td>\n",
       "      <td>6.000000</td>\n",
       "    </tr>\n",
       "    <tr>\n",
       "      <th>max</th>\n",
       "      <td>8.000000</td>\n",
       "      <td>16.000000</td>\n",
       "      <td>30.300000</td>\n",
       "      <td>20.900000</td>\n",
       "      <td>26.100000</td>\n",
       "      <td>608.000000</td>\n",
       "      <td>7.000000</td>\n",
       "    </tr>\n",
       "  </tbody>\n",
       "</table>\n",
       "</div>"
      ],
      "text/plain": [
       "       Engine_Size   Cylinders  Fuel_Consumption_in_City(L/100 km)  \\\n",
       "count   935.000000  935.000000                          935.000000   \n",
       "mean      3.214866    5.716578                           12.498610   \n",
       "std       1.388513    1.977359                            3.487271   \n",
       "min       1.000000    3.000000                            4.000000   \n",
       "25%       2.000000    4.000000                           10.100000   \n",
       "50%       3.000000    6.000000                           12.000000   \n",
       "75%       4.000000    8.000000                           14.800000   \n",
       "max       8.000000   16.000000                           30.300000   \n",
       "\n",
       "       Fuel_Consumption_in_City_Hwy(L/100 km)  Fuel_Consumption_comb(L/100km)  \\\n",
       "count                              935.000000                      935.000000   \n",
       "mean                                 9.306203                       11.060214   \n",
       "std                                  2.215819                        2.867028   \n",
       "min                                  3.900000                        4.000000   \n",
       "25%                                  7.700000                        9.100000   \n",
       "50%                                  9.000000                       10.700000   \n",
       "75%                                 10.800000                       13.100000   \n",
       "max                                 20.900000                       26.100000   \n",
       "\n",
       "       CO2_Emissions  Smog_Level  \n",
       "count     935.000000  935.000000  \n",
       "mean      258.529412    4.726203  \n",
       "std        64.442768    1.712127  \n",
       "min        94.000000    1.000000  \n",
       "25%       213.000000    3.000000  \n",
       "50%       255.000000    5.000000  \n",
       "75%       303.500000    6.000000  \n",
       "max       608.000000    7.000000  "
      ]
     },
     "execution_count": 15,
     "metadata": {},
     "output_type": "execute_result"
    }
   ],
   "source": [
    "df.describe()"
   ]
  },
  {
   "cell_type": "markdown",
   "metadata": {},
   "source": [
    "### Корреляция Пирсона"
   ]
  },
  {
   "cell_type": "code",
   "execution_count": 16,
   "metadata": {},
   "outputs": [
    {
     "name": "stdout",
     "output_type": "stream",
     "text": [
      "Коэффициент корреляции Пирсона: -0.5045441452332151\n"
     ]
    },
    {
     "data": {
      "image/png": "[encoded data removed]",
      "text/plain": [
       "<Figure size 432x288 with 1 Axes>"
      ]
     },
     "metadata": {
      "needs_background": "light"
     },
     "output_type": "display_data"
    }
   ],
   "source": [
    "corr, p_value = pearsonr(df['Smog_Level'], df['Engine_Size'])\n",
    "plt.scatter(df['Smog_Level'], df['Engine_Size'], marker='.')\n",
    "print('Коэффициент корреляции Пирсона:', corr)"
   ]
  },
  {
   "cell_type": "code",
   "execution_count": 17,
   "metadata": {},
   "outputs": [
    {
     "name": "stdout",
     "output_type": "stream",
     "text": [
      "Коэффициент корреляции Пирсона: -0.5732100061649237\n"
     ]
    },
    {
     "data": {
      "image/png": "[encoded data removed]",
      "text/plain": [
       "<Figure size 432x288 with 1 Axes>"
      ]
     },
     "metadata": {
      "needs_background": "light"
     },
     "output_type": "display_data"
    }
   ],
   "source": [
    "corr, p_value = pearsonr(df['Smog_Level'], df['Fuel_Consumption_in_City(L/100 km)'])\n",
    "plt.scatter(df['Smog_Level'], df['Fuel_Consumption_in_City(L/100 km)'], marker='.')\n",
    "print('Коэффициент корреляции Пирсона:', corr)"
   ]
  },
  {
   "cell_type": "markdown",
   "metadata": {},
   "source": [
    "### Корреляция Спирмана"
   ]
  },
  {
   "cell_type": "code",
   "execution_count": 18,
   "metadata": {},
   "outputs": [
    {
     "name": "stdout",
     "output_type": "stream",
     "text": [
      "-0.5669165873458611\n"
     ]
    }
   ],
   "source": [
    "cor, p_value = sts.spearmanr(df['Smog_Level'], df['Fuel_Consumption_in_City(L/100 km)'])\n",
    "print(cor)"
   ]
  },
  {
   "cell_type": "code",
   "execution_count": 19,
   "metadata": {},
   "outputs": [
    {
     "name": "stdout",
     "output_type": "stream",
     "text": [
      "-0.4945581372163635\n"
     ]
    }
   ],
   "source": [
    "cor, p_value = sts.spearmanr(df['Smog_Level'], df['Engine_Size'])\n",
    "print(cor)"
   ]
  },
  {
   "cell_type": "markdown",
   "metadata": {},
   "source": [
    "### Тау Кендалла"
   ]
  },
  {
   "cell_type": "code",
   "execution_count": 20,
   "metadata": {},
   "outputs": [
    {
     "name": "stdout",
     "output_type": "stream",
     "text": [
      "-0.4484676056668564\n"
     ]
    }
   ],
   "source": [
    "cor, p_value = sts.kendalltau(df['Smog_Level'], df['Fuel_Consumption_in_City(L/100 km)'])\n",
    "print(cor)"
   ]
  },
  {
   "cell_type": "code",
   "execution_count": 21,
   "metadata": {},
   "outputs": [
    {
     "name": "stdout",
     "output_type": "stream",
     "text": [
      "-0.3977744733148557\n"
     ]
    }
   ],
   "source": [
    "cor, p_value = sts.kendalltau(df['Smog_Level'], df['Engine_Size'])\n",
    "print(cor)"
   ]
  },
  {
   "cell_type": "markdown",
   "metadata": {},
   "source": [
    "### Корреляция Pandas"
   ]
  },
  {
   "cell_type": "code",
   "execution_count": 22,
   "metadata": {
    "scrolled": true
   },
   "outputs": [
    {
     "data": {
      "image/png": "[encoded data removed]",
      "text/plain": [
       "<Figure size 864x864 with 2 Axes>"
      ]
     },
     "metadata": {
      "needs_background": "light"
     },
     "output_type": "display_data"
    }
   ],
   "source": [
    "sns.heatmap(df.corr(),annot=True,linewidths=0.2) #data.corr()-->correlation matrix\n",
    "fig=plt.gcf()\n",
    "fig.set_size_inches(12,12)\n"
   ]
  },
  {
   "cell_type": "markdown",
   "metadata": {},
   "source": [
    "Корреляции межу показателями : \n",
    "\n",
    "    Engine_Size и Cylinders : 0.92 - сильная положительная\n",
    "    Engine_Size и Fuel_Consumption_in_City(L/100 km) : 0.83 - сильная положительная\n",
    "    Engine_Size и Fuel_Consumption_in_Hwy(L/100 km) : 0.75 - сильная положительная\n",
    "    Engine_Size и Fuel_Consumption_in_comb(L/100 km) : 0.82 - сильная положительная\n",
    "    Engine_Size и CO2_Emissions : 0.83 - сильная положительная\n",
    "    Engine_Size и Smog_level : -0.5 - умеренная отрицательная\n",
    "        \n",
    "    Cylinders и Fuel_Consumption_in_City(L/100 km): 0.84 - сильная положительная\n",
    "    Cylinders и Fuel_Consumption_in_Hwy(L/100 km): 0.74 - сильная положительная\n",
    "    Cylinders и Fuel_Consumption_in_comb(L/100 km): 0.82 - сильная положительная\n",
    "    Cylinders и CO2_Emissions: 0.83 - сильная положительная\n",
    "    Cylinders и Smog_level: -0.53 - умеренная отрицательная\n",
    "        \n",
    "    Fuel_Consumption_in_City(L/100 km) и Fuel_Consumption_in_Hwy(L/100 km): 0.93 - сильная положительная\n",
    "    Fuel_Consumption_in_City(L/100 km) и Fuel_Consumption_comb(L/100 km):0.99 - сильная положительная\n",
    "    Fuel_Consumption_in_City(L/100 km) и CO2_Emissions: 0.97 - сильная положительная\n",
    "    Fuel_Consumption_in_City(L/100 km) и Smog_level: -0.57 - умеренная отрицательная\n",
    "    \n",
    "    Fuel_Consumption_in_Hwy(L/100 km) и Fuel_Consumption_comb(L/100 km): 0.97 - сильная положительная\n",
    "    Fuel_Consumption_in_Hwy(L/100 km) и CO2_Emissions: 0.93 - сильная положительная\n",
    "    Fuel_Consumption_in_Hwy(L/100 km) и Smog_level: -0.49 - умеренная отрицательная\n",
    "    \n",
    "    Fuel_Consumption_comb(L/100 km) и CO2_Emissions: 0.97 - сильная положительная\n",
    "    Fuel_Consumption_comb(L/100 km) и Smog_level: -0.56 - умеренная отрицательная\n",
    "    \n",
    "    CO2_Emissions и Smog_level: -0.58 - умеренная отрицательная"
   ]
  },
  {
   "cell_type": "markdown",
   "metadata": {},
   "source": [
    "### Выбросы"
   ]
  },
  {
   "cell_type": "code",
   "execution_count": 23,
   "metadata": {},
   "outputs": [
    {
     "data": {
      "text/plain": [
       "0"
      ]
     },
     "execution_count": 23,
     "metadata": {},
     "output_type": "execute_result"
    }
   ],
   "source": [
    "df['Smog_Level'].isnull().sum()"
   ]
  },
  {
   "cell_type": "code",
   "execution_count": 24,
   "metadata": {},
   "outputs": [
    {
     "data": {
      "text/plain": [
       "0"
      ]
     },
     "execution_count": 24,
     "metadata": {},
     "output_type": "execute_result"
    }
   ],
   "source": [
    "df['Fuel_Consumption_in_City(L/100 km)'].isnull().sum()"
   ]
  },
  {
   "cell_type": "markdown",
   "metadata": {},
   "source": [
    "#### Нулевых значений в колонках нет"
   ]
  },
  {
   "cell_type": "code",
   "execution_count": 25,
   "metadata": {},
   "outputs": [
    {
     "data": {
      "image/png": "[encoded data removed]",
      "text/plain": [
       "<Figure size 432x288 with 1 Axes>"
      ]
     },
     "metadata": {
      "needs_background": "light"
     },
     "output_type": "display_data"
    }
   ],
   "source": [
    "smog = df['Smog_Level']\n",
    "fuel_cons = df['Fuel_Consumption_in_City(L/100 km)']\n",
    "fig, ax = plt.subplots()\n",
    "ax.scatter(smog, fuel_cons, c='red', alpha=0.3, edgecolors='none')\n",
    "ax.grid(True)\n",
    "plt.xlabel('Smog_Level')\n",
    "plt.ylabel('Fuel_Consumption_in_City(L/100 km)')\n",
    "plt.show()"
   ]
  },
  {
   "cell_type": "markdown",
   "metadata": {},
   "source": [
    "#### На графике можно увидеть, что имеются некоторые значения, нестандартные для данной выборки"
   ]
  },
  {
   "cell_type": "code",
   "execution_count": 26,
   "metadata": {},
   "outputs": [
    {
     "data": {
      "text/plain": [
       "123    26.8\n",
       "124    30.3\n",
       "189    21.5\n",
       "200    22.0\n",
       "267    20.5\n",
       "304    20.9\n",
       "314    21.5\n",
       "316    21.0\n",
       "345    21.6\n",
       "347    22.3\n",
       "382    21.5\n",
       "393    22.0\n",
       "505    20.9\n",
       "548    27.9\n",
       "549    27.9\n",
       "550    27.3\n",
       "551    27.3\n",
       "825    22.4\n",
       "831    20.1\n",
       "832    20.1\n",
       "833    20.7\n",
       "834    20.7\n",
       "Name: Fuel_Consumption_in_City(L/100 km), dtype: float64"
      ]
     },
     "execution_count": 26,
     "metadata": {},
     "output_type": "execute_result"
    }
   ],
   "source": [
    "df['Fuel_Consumption_in_City(L/100 km)'][df['Fuel_Consumption_in_City(L/100 km)']>20]"
   ]
  },
  {
   "cell_type": "code",
   "execution_count": 27,
   "metadata": {},
   "outputs": [],
   "source": [
    "smog_new = df['Smog_Level'][df['Fuel_Consumption_in_City(L/100 km)']<20]\n",
    "fuel_cons_new = df['Fuel_Consumption_in_City(L/100 km)'][df['Fuel_Consumption_in_City(L/100 km)']<20]"
   ]
  },
  {
   "cell_type": "code",
   "execution_count": 28,
   "metadata": {},
   "outputs": [
    {
     "data": {
      "image/png": "[encoded data removed]",
      "text/plain": [
       "<Figure size 432x288 with 1 Axes>"
      ]
     },
     "metadata": {
      "needs_background": "light"
     },
     "output_type": "display_data"
    }
   ],
   "source": [
    "fig, ax = plt.subplots()\n",
    "ax.scatter(smog_new, fuel_cons_new, c='red', alpha=0.3, edgecolors='none')\n",
    "\n",
    "ax.grid(True)\n",
    "plt.xlabel('Smog_Level')\n",
    "plt.ylabel('Fuel_Consumption_in_City(L/100 km)')\n",
    "plt.show()"
   ]
  },
  {
   "cell_type": "markdown",
   "metadata": {},
   "source": [
    "### Коэффициент островершинности (куртосис)"
   ]
  },
  {
   "cell_type": "code",
   "execution_count": 29,
   "metadata": {},
   "outputs": [
    {
     "name": "stdout",
     "output_type": "stream",
     "text": [
      "Fuel_Consumption_in_City(L/100 km): 1.850644083679402\n",
      "Engine_Size: -0.10129720650956342\n",
      "Smog_Level: -0.5295869373965325\n"
     ]
    }
   ],
   "source": [
    "print('Fuel_Consumption_in_City(L/100 km):', sts.kurtosis(df['Fuel_Consumption_in_City(L/100 km)'], axis=0, fisher=True, bias=True))\n",
    "print('Engine_Size:', sts.kurtosis(df['Engine_Size'], axis=0, fisher=True, bias=True))\n",
    "print('Smog_Level:', sts.kurtosis(df['Smog_Level'], axis=0, fisher=True, bias=True))"
   ]
  },
  {
   "cell_type": "markdown",
   "metadata": {},
   "source": [
    "### Коэффициент асимметрии"
   ]
  },
  {
   "cell_type": "code",
   "execution_count": 30,
   "metadata": {},
   "outputs": [
    {
     "name": "stdout",
     "output_type": "stream",
     "text": [
      "Fuel_Consumption_in_City(L/100 km): 0.7490480694538997\n",
      "Engine_Size: 0.8762254820876445\n",
      "Smog_Level: -0.4874813254716418\n"
     ]
    }
   ],
   "source": [
    "print('Fuel_Consumption_in_City(L/100 km):', sts.skew(df['Fuel_Consumption_in_City(L/100 km)'], axis=0, bias=True))\n",
    "print('Engine_Size:', sts.skew(df['Engine_Size'], axis=0, bias=True))\n",
    "print('Smog_Level:', sts.skew(df['Smog_Level'], axis=0, bias=True))"
   ]
  },
  {
   "cell_type": "code",
   "execution_count": 31,
   "metadata": {},
   "outputs": [
    {
     "name": "stdout",
     "output_type": "stream",
     "text": [
      "Fuel_Consumption_in_City(L/100 km) (мат. ожидание): 12.498609625668449\n",
      "Fuel_Consumption_in_City(L/100 km) (медиана): aver: 12.0 low: 12.0 high: 12.0\n",
      "Fuel_Consumption_in_City(L/100 km) (мода): 13.1\n"
     ]
    }
   ],
   "source": [
    "print('Fuel_Consumption_in_City(L/100 km) (мат. ожидание):', st.mean(df['Fuel_Consumption_in_City(L/100 km)']))\n",
    "print('Fuel_Consumption_in_City(L/100 km) (медиана):', 'aver:', st.median(df['Fuel_Consumption_in_City(L/100 km)']), 'low:', st.median_low(df['Fuel_Consumption_in_City(L/100 km)']), 'high:', st.median_high(df['Fuel_Consumption_in_City(L/100 km)']))\n",
    "print('Fuel_Consumption_in_City(L/100 km) (мода):', st.mode(df['Fuel_Consumption_in_City(L/100 km)']))"
   ]
  },
  {
   "cell_type": "code",
   "execution_count": 32,
   "metadata": {},
   "outputs": [
    {
     "name": "stdout",
     "output_type": "stream",
     "text": [
      "Engine_Size:\n",
      "Мат. ожидание: 3.214866310160428\n",
      "Средневзвешенное: 2.34\n",
      "Медиана: aver: 3.0 low: 3.0 high: 3.0\n",
      "Мода: 2.0\n",
      "Минимальное и максимальное: min: 1.0 max: 8.0\n",
      "Дисперсия: 1.9259073350682032\n",
      "Стандартное отклонение: 1.387770634891877\n",
      "Процентиль 5: 1.5\n",
      "Процентиль 95: 6.2\n",
      "Процентиль 25 50 75: [2. 3. 4.]\n",
      "Размах: 7.0\n"
     ]
    }
   ],
   "source": [
    "print('Engine_Size:')\n",
    "print('Мат. ожидание:', st.mean(df['Engine_Size']))\n",
    "w = [0.1, 0.2, 0.3, 0.25, 0.15]\n",
    "df_head = df.head(5)\n",
    "print('Средневзвешенное:', np.average(df_head['Engine_Size'], weights=w))\n",
    "print('Медиана:', 'aver:', st.median(df['Engine_Size']), 'low:', st.median_low(df['Engine_Size']), 'high:', st.median_high(df['Engine_Size']))\n",
    "print('Мода:', st.mode(df['Engine_Size']))\n",
    "print('Минимальное и максимальное:', 'min:', np.min(df['Engine_Size']), 'max:', np.max(df['Engine_Size']))\n",
    "print('Дисперсия:', st.pvariance(df['Engine_Size']))\n",
    "print('Стандартное отклонение:', st.pstdev(df['Engine_Size']))\n",
    "print('Процентиль 5:', np.percentile(df['Engine_Size'], 5))\n",
    "print('Процентиль 95:', np.percentile(df['Engine_Size'], 95))\n",
    "print('Процентиль 25 50 75:', np.percentile(df['Engine_Size'], [25,50,75]))\n",
    "print('Размах:', max(df['Engine_Size'])-min(df['Engine_Size']))"
   ]
  },
  {
   "cell_type": "code",
   "execution_count": 33,
   "metadata": {},
   "outputs": [
    {
     "name": "stdout",
     "output_type": "stream",
     "text": [
      "Fuel_Consumption_in_City(L/100 km):\n",
      "Мат. ожидание: 12.498609625668449\n",
      "Средневзвешенное: 11.015\n",
      "Медиана: aver: 12.0 low: 12.0 high: 12.0\n",
      "Мода: 13.1\n",
      "Минимальное и максимальное: min: 4.0 max: 30.3\n",
      "Дисперсия: 12.148051542795047\n",
      "Стандартное отклонение: 3.4854055062209115\n",
      "Процентиль 5: 7.9\n",
      "Процентиль 95: 18.0\n",
      "Процентиль 25 50 75: [10.1 12.  14.8]\n",
      "Размах: 26.3\n"
     ]
    }
   ],
   "source": [
    "print('Fuel_Consumption_in_City(L/100 km):')\n",
    "print('Мат. ожидание:', st.mean(df['Fuel_Consumption_in_City(L/100 km)']))\n",
    "w = [0.1, 0.2, 0.3, 0.25, 0.15]\n",
    "df_head = df.head(5)\n",
    "print('Средневзвешенное:', np.average(df_head['Fuel_Consumption_in_City(L/100 km)'], weights=w))\n",
    "print('Медиана:', 'aver:', st.median(df['Fuel_Consumption_in_City(L/100 km)']), 'low:', st.median_low(df['Fuel_Consumption_in_City(L/100 km)']), 'high:', st.median_high(df['Fuel_Consumption_in_City(L/100 km)']))\n",
    "print('Мода:', st.mode(df['Fuel_Consumption_in_City(L/100 km)']))\n",
    "print('Минимальное и максимальное:', 'min:', np.min(df['Fuel_Consumption_in_City(L/100 km)']), 'max:', np.max(df['Fuel_Consumption_in_City(L/100 km)']))\n",
    "print('Дисперсия:', st.pvariance(df['Fuel_Consumption_in_City(L/100 km)']))\n",
    "print('Стандартное отклонение:', st.pstdev(df['Fuel_Consumption_in_City(L/100 km)']))\n",
    "print('Процентиль 5:', np.percentile(df['Fuel_Consumption_in_City(L/100 km)'], 5))\n",
    "print('Процентиль 95:', np.percentile(df['Fuel_Consumption_in_City(L/100 km)'], 95))\n",
    "print('Процентиль 25 50 75:', np.percentile(df['Fuel_Consumption_in_City(L/100 km)'], [25,50,75]))\n",
    "print('Размах:', max(df['Fuel_Consumption_in_City(L/100 km)'])-min(df['Fuel_Consumption_in_City(L/100 km)']))"
   ]
  },
  {
   "cell_type": "code",
   "execution_count": 34,
   "metadata": {},
   "outputs": [
    {
     "name": "stdout",
     "output_type": "stream",
     "text": [
      "CO2_Emissions:\n",
      "Мат. ожидание: 258.52941176470586\n",
      "Средневзвешенное: 235.7\n",
      "Медиана: aver: 255 low: 255 high: 255\n",
      "Мода: 242\n",
      "Минимальное и максимальное: min: 94 max: 608\n",
      "Дисперсия: 4148.428814092482\n",
      "Стандартное отклонение: 64.4082977114943\n",
      "Процентиль 5: 167.0\n",
      "Процентиль 95: 359.0\n",
      "Процентиль 25 50 75: [213.  255.  303.5]\n",
      "Размах: 514\n"
     ]
    }
   ],
   "source": [
    "print('CO2_Emissions:')\n",
    "print('Мат. ожидание:', st.mean(df['CO2_Emissions']))\n",
    "w = [0.1, 0.2, 0.3, 0.25, 0.15]\n",
    "df_head = df.head(5)\n",
    "print('Средневзвешенное:', np.average(df_head['CO2_Emissions'], weights=w))\n",
    "print('Медиана:', 'aver:', st.median(df['CO2_Emissions']), 'low:', st.median_low(df['CO2_Emissions']), 'high:', st.median_high(df['CO2_Emissions']))\n",
    "print('Мода:', st.mode(df['CO2_Emissions']))\n",
    "print('Минимальное и максимальное:', 'min:', np.min(df['CO2_Emissions']), 'max:', np.max(df['CO2_Emissions']))\n",
    "print('Дисперсия:', st.pvariance(df['CO2_Emissions']))\n",
    "print('Стандартное отклонение:', st.pstdev(df['CO2_Emissions']))\n",
    "print('Процентиль 5:', np.percentile(df['CO2_Emissions'], 5))\n",
    "print('Процентиль 95:', np.percentile(df['CO2_Emissions'], 95))\n",
    "print('Процентиль 25 50 75:', np.percentile(df['CO2_Emissions'], [25,50,75]))\n",
    "print('Размах:', max(df['CO2_Emissions'])-min(df['CO2_Emissions']))"
   ]
  },
  {
   "cell_type": "code",
   "execution_count": 35,
   "metadata": {},
   "outputs": [
    {
     "name": "stdout",
     "output_type": "stream",
     "text": [
      "Smog_Level:\n",
      "Мат. ожидание: 4.72620320855615\n",
      "Средневзвешенное: 5.25\n",
      "Медиана: aver: 5 low: 5 high: 5\n",
      "Мода: 5\n",
      "Минимальное и максимальное: min: 1 max: 7\n",
      "Дисперсия: 2.9282438731447855\n",
      "Стандартное отклонение: 1.7112112298441666\n",
      "Процентиль 5: 1.0\n",
      "Процентиль 95: 7.0\n",
      "Процентиль 25 50 75: [3. 5. 6.]\n",
      "Размах: 6\n"
     ]
    }
   ],
   "source": [
    "print('Smog_Level:')\n",
    "print('Мат. ожидание:', st.mean(df['Smog_Level']))\n",
    "w = [0.1, 0.2, 0.3, 0.25, 0.15]\n",
    "df_head = df.head(5)\n",
    "print('Средневзвешенное:', np.average(df_head['Smog_Level'], weights=w))\n",
    "print('Медиана:', 'aver:', st.median(df['Smog_Level']), 'low:', st.median_low(df['Smog_Level']), 'high:', st.median_high(df['Smog_Level']))\n",
    "print('Мода:', st.mode(df['Smog_Level']))\n",
    "print('Минимальное и максимальное:', 'min:', np.min(df['Smog_Level']), 'max:', np.max(df['Smog_Level']))\n",
    "print('Дисперсия:', st.pvariance(df['Smog_Level']))\n",
    "print('Стандартное отклонение:', st.pstdev(df['Smog_Level']))\n",
    "print('Процентиль 5:', np.percentile(df['Smog_Level'], 5))\n",
    "print('Процентиль 95:', np.percentile(df['Smog_Level'], 95))\n",
    "print('Процентиль 25 50 75:', np.percentile(df['Smog_Level'], [25,50,75]))\n",
    "print('Размах:', max(df['Smog_Level'])-min(df['Smog_Level']))"
   ]
  },
  {
   "cell_type": "code",
   "execution_count": null,
   "metadata": {},
   "outputs": [],
   "source": []
  }
 ],
 "metadata": {
  "kernelspec": {
   "display_name": "Python 3",
   "language": "python",
   "name": "python3"
  },
  "language_info": {
   "codemirror_mode": {
    "name": "ipython",
    "version": 3
   },
   "file_extension": ".py",
   "mimetype": "text/x-python",
   "name": "python",
   "nbconvert_exporter": "python",
   "pygments_lexer": "ipython3",
   "version": "3.8.3"
  }
 },
 "nbformat": 4,
 "nbformat_minor": 5
}
